{
 "cells": [
  {
   "cell_type": "markdown",
   "id": "0dcccdae",
   "metadata": {},
   "source": [
    "Q1.Assign the value 7 to the variable guess_me. Then, write the conditional tests (if, else, and elif) to\n",
    "print the string &#39;too low&#39; if guess_me is less than 7, &#39;too high&#39; if greater than 7, and &#39;just right&#39; if equalto 7."
   ]
  },
  {
   "cell_type": "code",
   "execution_count": 1,
   "id": "154e02c7",
   "metadata": {},
   "outputs": [
    {
     "name": "stdout",
     "output_type": "stream",
     "text": [
      "just right\n"
     ]
    }
   ],
   "source": [
    "guess_me = 7\n",
    "if guess_me < 7:\n",
    " print('too low')\n",
    "elif guess_me > 7:\n",
    " print('too high')\n",
    "else:\n",
    " print('just right')"
   ]
  },
  {
   "cell_type": "markdown",
   "id": "ad5cce29",
   "metadata": {},
   "source": [
    "Q2.Assign the value 7 to the variable guess_me and the value 1 to the variable start. Write a while loop that compares start with guess_me. Print too low if start is less than guess me. If start equals guess_me, print 'found it!' and exit the loop. If start is greater than guess_me, print 'oops' and exit the loop. Increment start at the end of the loop."
   ]
  },
  {
   "cell_type": "code",
   "execution_count": 5,
   "id": "d3f48123",
   "metadata": {},
   "outputs": [
    {
     "name": "stdout",
     "output_type": "stream",
     "text": [
      "too low\n",
      "too low\n",
      "too low\n",
      "too low\n",
      "too low\n",
      "too low\n",
      "found it!\n",
      "oops\n"
     ]
    }
   ],
   "source": [
    "guess_me=7\n",
    "start=1\n",
    "while True:\n",
    "    if(start<guess_me):\n",
    "        print(\"too low\")\n",
    "        start+=1\n",
    "    elif(start==guess_me):\n",
    "        print(\"found it!\")\n",
    "        break\n",
    "        \n",
    "print(\"oops\")\n",
    "        \n"
   ]
  },
  {
   "cell_type": "markdown",
   "id": "841a25ee",
   "metadata": {},
   "source": [
    "Q3.Print the following values of the list [3, 2, 1, 0] using a for loop."
   ]
  },
  {
   "cell_type": "code",
   "execution_count": 7,
   "id": "803795a3",
   "metadata": {},
   "outputs": [
    {
     "name": "stdout",
     "output_type": "stream",
     "text": [
      "3\n",
      "2\n",
      "1\n",
      "0\n"
     ]
    }
   ],
   "source": [
    "list=[3,2,1,0]\n",
    "for i in list:\n",
    "    print (i)"
   ]
  },
  {
   "cell_type": "markdown",
   "id": "d37a910b",
   "metadata": {},
   "source": [
    "Q4.Use a list comprehension to make a list of the even numbers in range(10)"
   ]
  },
  {
   "cell_type": "code",
   "execution_count": 8,
   "id": "e96e7fb2",
   "metadata": {},
   "outputs": [],
   "source": [
    "List=[a for a in range(10) if a%2==0]"
   ]
  },
  {
   "cell_type": "code",
   "execution_count": 9,
   "id": "c1a73b18",
   "metadata": {},
   "outputs": [
    {
     "data": {
      "text/plain": [
       "[0, 2, 4, 6, 8]"
      ]
     },
     "execution_count": 9,
     "metadata": {},
     "output_type": "execute_result"
    }
   ],
   "source": [
    "List"
   ]
  },
  {
   "cell_type": "markdown",
   "id": "5a68d738",
   "metadata": {},
   "source": [
    "Q5.Use a dictionary comprehension to create the dictionary squares. Use range(10) to return the keys, and use the \n",
    "square of each key as its value."
   ]
  },
  {
   "cell_type": "code",
   "execution_count": 10,
   "id": "89a44965",
   "metadata": {},
   "outputs": [],
   "source": [
    "Dic={value:value*value for value in range(10)}"
   ]
  },
  {
   "cell_type": "code",
   "execution_count": 11,
   "id": "16babdba",
   "metadata": {},
   "outputs": [
    {
     "data": {
      "text/plain": [
       "{0: 0, 1: 1, 2: 4, 3: 9, 4: 16, 5: 25, 6: 36, 7: 49, 8: 64, 9: 81}"
      ]
     },
     "execution_count": 11,
     "metadata": {},
     "output_type": "execute_result"
    }
   ],
   "source": [
    "Dic"
   ]
  },
  {
   "cell_type": "markdown",
   "id": "b0afe621",
   "metadata": {},
   "source": [
    "Q6.Construct the set odd from the odd numbers in the range using a set comprehension (10)."
   ]
  },
  {
   "cell_type": "code",
   "execution_count": 12,
   "id": "1f00c4cf",
   "metadata": {},
   "outputs": [],
   "source": [
    "set={odd for odd in range(10) if odd%2!=0}"
   ]
  },
  {
   "cell_type": "code",
   "execution_count": 13,
   "id": "48a829ed",
   "metadata": {},
   "outputs": [
    {
     "data": {
      "text/plain": [
       "{1, 3, 5, 7, 9}"
      ]
     },
     "execution_count": 13,
     "metadata": {},
     "output_type": "execute_result"
    }
   ],
   "source": [
    "set"
   ]
  },
  {
   "cell_type": "markdown",
   "id": "dc528bb7",
   "metadata": {},
   "source": [
    "Q7.Use a generator comprehension to return the string 'Got ' and a number for the numbers in range(10). Iterate through this \n",
    "by using a for loop."
   ]
  },
  {
   "cell_type": "code",
   "execution_count": 14,
   "id": "c6b7c3a6",
   "metadata": {},
   "outputs": [
    {
     "name": "stdout",
     "output_type": "stream",
     "text": [
      "Got 0\n",
      "Got 1\n",
      "Got 2\n",
      "Got 3\n",
      "Got 4\n",
      "Got 5\n",
      "Got 6\n",
      "Got 7\n",
      "Got 8\n",
      "Got 9\n"
     ]
    }
   ],
   "source": [
    "for thing in ('Got %s' % number for number in range(10)):\n",
    "    print(thing)"
   ]
  },
  {
   "cell_type": "markdown",
   "id": "8b7b2744",
   "metadata": {},
   "source": [
    "Q8.Define a function called good that returns the list ['Harry', 'Ron', 'Hermione']."
   ]
  },
  {
   "cell_type": "code",
   "execution_count": 16,
   "id": "0af7694e",
   "metadata": {},
   "outputs": [
    {
     "data": {
      "text/plain": [
       "['Harry', 'Ron', 'Hermione']"
      ]
     },
     "execution_count": 16,
     "metadata": {},
     "output_type": "execute_result"
    }
   ],
   "source": [
    "def good():\n",
    "    return ['Harry', 'Ron', 'Hermione']\n",
    "good()"
   ]
  },
  {
   "cell_type": "markdown",
   "id": "db8801fa",
   "metadata": {},
   "source": [
    "Q9.Define a generator function called get_odds that returns the odd numbers from range(10). Use a for loop to find and print the \n",
    "third value returned."
   ]
  },
  {
   "cell_type": "code",
   "execution_count": 21,
   "id": "3b82a40a",
   "metadata": {},
   "outputs": [
    {
     "data": {
      "text/plain": [
       "1"
      ]
     },
     "execution_count": 21,
     "metadata": {},
     "output_type": "execute_result"
    }
   ],
   "source": [
    "def get_odds():\n",
    "    for i in range(10):\n",
    "        if i%2!=0:\n",
    "            return i\n",
    "            i+=1\n",
    "get_odds()\n",
    "    "
   ]
  },
  {
   "cell_type": "markdown",
   "id": "c79106cc",
   "metadata": {},
   "source": [
    "Q10.Define an exception called OopsException. Raise this exception to see what happens. Then write the code to catch \n",
    "this exception and print 'Caught an oops'."
   ]
  },
  {
   "cell_type": "code",
   "execution_count": 23,
   "id": "e72a6c0b",
   "metadata": {},
   "outputs": [
    {
     "name": "stdout",
     "output_type": "stream",
     "text": [
      "Caught an oops\n"
     ]
    }
   ],
   "source": [
    "class OopsException(Exception):\n",
    "    try:\n",
    "        print('Caught an oops')\n",
    "    \n",
    "    except OopsException:\n",
    "        raise OopsException\n",
    "        \n",
    "   \n"
   ]
  },
  {
   "cell_type": "markdown",
   "id": "b68694c5",
   "metadata": {},
   "source": [
    "Q11. Use zip() to make a dictionary called movies that pairs these lists: titles = ['Creature of Habit', 'Crewel Fate'] \n",
    "    and plots = ['A nun turns into a monster', 'A haunted yarn shop']."
   ]
  },
  {
   "cell_type": "code",
   "execution_count": 24,
   "id": "a44da38b",
   "metadata": {},
   "outputs": [
    {
     "data": {
      "text/plain": [
       "{'Creature of Habit': 'A nun turns into a monster',\n",
       " 'Crewel Fate': 'A haunted yarn shop'}"
      ]
     },
     "execution_count": 24,
     "metadata": {},
     "output_type": "execute_result"
    }
   ],
   "source": [
    "titles = ['Creature of Habit', 'Crewel Fate']\n",
    "plots = ['A nun turns into a monster', 'A haunted yarn shop']\n",
    "movies=dict(zip(titles,plots))\n",
    "movies"
   ]
  },
  {
   "cell_type": "code",
   "execution_count": null,
   "id": "8ae65de7",
   "metadata": {},
   "outputs": [],
   "source": []
  }
 ],
 "metadata": {
  "kernelspec": {
   "display_name": "Python 3 (ipykernel)",
   "language": "python",
   "name": "python3"
  },
  "language_info": {
   "codemirror_mode": {
    "name": "ipython",
    "version": 3
   },
   "file_extension": ".py",
   "mimetype": "text/x-python",
   "name": "python",
   "nbconvert_exporter": "python",
   "pygments_lexer": "ipython3",
   "version": "3.9.12"
  }
 },
 "nbformat": 4,
 "nbformat_minor": 5
}
